{
 "cells": [
  {
   "cell_type": "code",
   "execution_count": null,
   "id": "c43874e8",
   "metadata": {},
   "outputs": [],
   "source": [
    "headline_scraper.py\n",
    "A simple scrapy spider to collect web page titles\n",
    "\n",
    "\n",
    "import scrapy\n",
    "from pandas import read_csv\n",
    "from readability.readability import Document\n",
    "\n",
    "PATH_TO_DATA = \n",
    "\n",
    "\n",
    "class HeadlineSpider(scrapy.Spider):\n",
    "    name = \"headline_spider\"\n",
    "    start_urls = read_csv(PATH_TO_DATA).url.tolist()\n",
    "\n",
    "    def parse(self, response):\n",
    "        doc = Document(response.text)\n",
    "        yield {\n",
    "            'short_title': doc.short_title(),\n",
    "            'full_title': doc.title(),\n",
    "            'url': response.url\n",
    "        }"
   ]
  }
 ],
 "metadata": {
  "kernelspec": {
   "display_name": "Python 3",
   "language": "python",
   "name": "python3"
  },
  "language_info": {
   "codemirror_mode": {
    "name": "ipython",
    "version": 3
   },
   "file_extension": ".py",
   "mimetype": "text/x-python",
   "name": "python",
   "nbconvert_exporter": "python",
   "pygments_lexer": "ipython3",
   "version": "3.8.8"
  }
 },
 "nbformat": 4,
 "nbformat_minor": 5
}
