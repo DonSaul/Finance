{
 "cells": [
  {
   "cell_type": "markdown",
   "id": "a0257839",
   "metadata": {},
   "source": [
    "## Reduction of the dataset to FAANG (Facebook,Amazon,Apple,Netflix,Google)\n",
    "\n",
    "see kagle https://www.kaggle.com/aayushmishra1512/faang-complete-stock-data"
   ]
  },
  {
   "cell_type": "code",
   "execution_count": null,
   "id": "f1472c02",
   "metadata": {},
   "outputs": [],
   "source": [
    "headline_scraper.py\n",
    "A simple scrapy spider to collect web page titles\n",
    "\n",
    "\n",
    "import scrapy\n",
    "from pandas import read_csv\n",
    "from readability.readability import Document\n",
    "\n",
    "PATH_TO_DATA = \n",
    "\n",
    "\n",
    "class HeadlineSpider(scrapy.Spider):\n",
    "    name = \"headline_spider\"\n",
    "    start_urls = read_csv(PATH_TO_DATA).url.tolist()\n",
    "\n",
    "    def parse(self, response):\n",
    "        doc = Document(response.text)\n",
    "        yield {\n",
    "            'short_title': doc.short_title(),\n",
    "            'full_title': doc.title(),\n",
    "            'url': response.url\n",
    "        }"
   ]
  }
 ],
 "metadata": {
  "kernelspec": {
   "display_name": "Python 3",
   "language": "python",
   "name": "python3"
  },
  "language_info": {
   "codemirror_mode": {
    "name": "ipython",
    "version": 3
   },
   "file_extension": ".py",
   "mimetype": "text/x-python",
   "name": "python",
   "nbconvert_exporter": "python",
   "pygments_lexer": "ipython3",
   "version": "3.8.8"
  }
 },
 "nbformat": 4,
 "nbformat_minor": 5
}
