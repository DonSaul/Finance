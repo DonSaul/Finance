{
 "cells": [
  {
   "cell_type": "markdown",
   "id": "38e6b21b",
   "metadata": {},
   "source": [
    "## Reduction of the dataset to FAANG (Facebook,Amazon,Apple,Netflix,Google)\n",
    "\n",
    "see kagle https://www.kaggle.com/aayushmishra1512/faang-complete-stock-data"
   ]
  },
  {
   "cell_type": "code",
   "execution_count": 21,
   "id": "0fb5f9a9",
   "metadata": {},
   "outputs": [],
   "source": [
    "import pandas as pd\n",
    "import numpy as np\n",
    "from datetime import datetime"
   ]
  },
  {
   "cell_type": "code",
   "execution_count": 13,
   "id": "2634724f",
   "metadata": {},
   "outputs": [],
   "source": [
    "df = pd.read_csv('Datasets/Amazon.csv')"
   ]
  },
  {
   "cell_type": "code",
   "execution_count": 14,
   "id": "42973d8d",
   "metadata": {},
   "outputs": [
    {
     "data": {
      "text/html": [
       "<div>\n",
       "<style scoped>\n",
       "    .dataframe tbody tr th:only-of-type {\n",
       "        vertical-align: middle;\n",
       "    }\n",
       "\n",
       "    .dataframe tbody tr th {\n",
       "        vertical-align: top;\n",
       "    }\n",
       "\n",
       "    .dataframe thead th {\n",
       "        text-align: right;\n",
       "    }\n",
       "</style>\n",
       "<table border=\"1\" class=\"dataframe\">\n",
       "  <thead>\n",
       "    <tr style=\"text-align: right;\">\n",
       "      <th></th>\n",
       "      <th>Date</th>\n",
       "      <th>Open</th>\n",
       "      <th>High</th>\n",
       "      <th>Low</th>\n",
       "      <th>Close</th>\n",
       "      <th>Adj Close</th>\n",
       "      <th>Volume</th>\n",
       "    </tr>\n",
       "  </thead>\n",
       "  <tbody>\n",
       "    <tr>\n",
       "      <th>0</th>\n",
       "      <td>1997-05-15</td>\n",
       "      <td>2.437500</td>\n",
       "      <td>2.500000</td>\n",
       "      <td>1.927083</td>\n",
       "      <td>1.958333</td>\n",
       "      <td>1.958333</td>\n",
       "      <td>72156000</td>\n",
       "    </tr>\n",
       "    <tr>\n",
       "      <th>1</th>\n",
       "      <td>1997-05-16</td>\n",
       "      <td>1.968750</td>\n",
       "      <td>1.979167</td>\n",
       "      <td>1.708333</td>\n",
       "      <td>1.729167</td>\n",
       "      <td>1.729167</td>\n",
       "      <td>14700000</td>\n",
       "    </tr>\n",
       "    <tr>\n",
       "      <th>2</th>\n",
       "      <td>1997-05-19</td>\n",
       "      <td>1.760417</td>\n",
       "      <td>1.770833</td>\n",
       "      <td>1.625000</td>\n",
       "      <td>1.708333</td>\n",
       "      <td>1.708333</td>\n",
       "      <td>6106800</td>\n",
       "    </tr>\n",
       "    <tr>\n",
       "      <th>3</th>\n",
       "      <td>1997-05-20</td>\n",
       "      <td>1.729167</td>\n",
       "      <td>1.750000</td>\n",
       "      <td>1.635417</td>\n",
       "      <td>1.635417</td>\n",
       "      <td>1.635417</td>\n",
       "      <td>5467200</td>\n",
       "    </tr>\n",
       "    <tr>\n",
       "      <th>4</th>\n",
       "      <td>1997-05-21</td>\n",
       "      <td>1.635417</td>\n",
       "      <td>1.645833</td>\n",
       "      <td>1.375000</td>\n",
       "      <td>1.427083</td>\n",
       "      <td>1.427083</td>\n",
       "      <td>18853200</td>\n",
       "    </tr>\n",
       "    <tr>\n",
       "      <th>...</th>\n",
       "      <td>...</td>\n",
       "      <td>...</td>\n",
       "      <td>...</td>\n",
       "      <td>...</td>\n",
       "      <td>...</td>\n",
       "      <td>...</td>\n",
       "      <td>...</td>\n",
       "    </tr>\n",
       "    <tr>\n",
       "      <th>5847</th>\n",
       "      <td>2020-08-10</td>\n",
       "      <td>3170.310059</td>\n",
       "      <td>3172.510010</td>\n",
       "      <td>3101.520020</td>\n",
       "      <td>3148.159912</td>\n",
       "      <td>3148.159912</td>\n",
       "      <td>3167300</td>\n",
       "    </tr>\n",
       "    <tr>\n",
       "      <th>5848</th>\n",
       "      <td>2020-08-11</td>\n",
       "      <td>3113.199951</td>\n",
       "      <td>3159.219971</td>\n",
       "      <td>3073.000000</td>\n",
       "      <td>3080.669922</td>\n",
       "      <td>3080.669922</td>\n",
       "      <td>3718100</td>\n",
       "    </tr>\n",
       "    <tr>\n",
       "      <th>5849</th>\n",
       "      <td>2020-08-12</td>\n",
       "      <td>3108.000000</td>\n",
       "      <td>3174.389893</td>\n",
       "      <td>3101.419922</td>\n",
       "      <td>3162.239990</td>\n",
       "      <td>3162.239990</td>\n",
       "      <td>3527200</td>\n",
       "    </tr>\n",
       "    <tr>\n",
       "      <th>5850</th>\n",
       "      <td>2020-08-13</td>\n",
       "      <td>3182.989990</td>\n",
       "      <td>3217.520020</td>\n",
       "      <td>3155.000000</td>\n",
       "      <td>3161.020020</td>\n",
       "      <td>3161.020020</td>\n",
       "      <td>3149000</td>\n",
       "    </tr>\n",
       "    <tr>\n",
       "      <th>5851</th>\n",
       "      <td>2020-08-14</td>\n",
       "      <td>3178.179932</td>\n",
       "      <td>3178.239990</td>\n",
       "      <td>3120.000000</td>\n",
       "      <td>3148.020020</td>\n",
       "      <td>3148.020020</td>\n",
       "      <td>2749200</td>\n",
       "    </tr>\n",
       "  </tbody>\n",
       "</table>\n",
       "<p>5852 rows × 7 columns</p>\n",
       "</div>"
      ],
      "text/plain": [
       "            Date         Open         High          Low        Close  \\\n",
       "0     1997-05-15     2.437500     2.500000     1.927083     1.958333   \n",
       "1     1997-05-16     1.968750     1.979167     1.708333     1.729167   \n",
       "2     1997-05-19     1.760417     1.770833     1.625000     1.708333   \n",
       "3     1997-05-20     1.729167     1.750000     1.635417     1.635417   \n",
       "4     1997-05-21     1.635417     1.645833     1.375000     1.427083   \n",
       "...          ...          ...          ...          ...          ...   \n",
       "5847  2020-08-10  3170.310059  3172.510010  3101.520020  3148.159912   \n",
       "5848  2020-08-11  3113.199951  3159.219971  3073.000000  3080.669922   \n",
       "5849  2020-08-12  3108.000000  3174.389893  3101.419922  3162.239990   \n",
       "5850  2020-08-13  3182.989990  3217.520020  3155.000000  3161.020020   \n",
       "5851  2020-08-14  3178.179932  3178.239990  3120.000000  3148.020020   \n",
       "\n",
       "        Adj Close    Volume  \n",
       "0        1.958333  72156000  \n",
       "1        1.729167  14700000  \n",
       "2        1.708333   6106800  \n",
       "3        1.635417   5467200  \n",
       "4        1.427083  18853200  \n",
       "...           ...       ...  \n",
       "5847  3148.159912   3167300  \n",
       "5848  3080.669922   3718100  \n",
       "5849  3162.239990   3527200  \n",
       "5850  3161.020020   3149000  \n",
       "5851  3148.020020   2749200  \n",
       "\n",
       "[5852 rows x 7 columns]"
      ]
     },
     "execution_count": 14,
     "metadata": {},
     "output_type": "execute_result"
    }
   ],
   "source": [
    "df"
   ]
  },
  {
   "cell_type": "code",
   "execution_count": 16,
   "id": "42d14789",
   "metadata": {},
   "outputs": [],
   "source": [
    "grouped = df.groupby(df.Date)"
   ]
  },
  {
   "cell_type": "code",
   "execution_count": 31,
   "id": "996318b7",
   "metadata": {},
   "outputs": [
    {
     "data": {
      "text/plain": [
       "0      1997-05-15\n",
       "1      1997-05-16\n",
       "2      1997-05-19\n",
       "3      1997-05-20\n",
       "4      1997-05-21\n",
       "          ...    \n",
       "5847   2020-08-10\n",
       "5848   2020-08-11\n",
       "5849   2020-08-12\n",
       "5850   2020-08-13\n",
       "5851   2020-08-14\n",
       "Name: Date, Length: 5852, dtype: datetime64[ns]"
      ]
     },
     "execution_count": 31,
     "metadata": {},
     "output_type": "execute_result"
    }
   ],
   "source": [
    "df.Date"
   ]
  },
  {
   "cell_type": "code",
   "execution_count": 33,
   "id": "538edf5f",
   "metadata": {},
   "outputs": [],
   "source": [
    "mask = (df.Date > '2018-1-1') & (df.Date <= '2020-1-1')"
   ]
  },
  {
   "cell_type": "code",
   "execution_count": 34,
   "id": "cb59fe6e",
   "metadata": {},
   "outputs": [
    {
     "name": "stdout",
     "output_type": "stream",
     "text": [
      "           Date         Open         High          Low        Close  \\\n",
      "5192 2018-01-02  1172.000000  1190.000000  1170.510010  1189.010010   \n",
      "5193 2018-01-03  1188.300049  1205.489990  1188.300049  1204.199951   \n",
      "5194 2018-01-04  1205.000000  1215.869995  1204.660034  1209.589966   \n",
      "5195 2018-01-05  1217.510010  1229.140015  1210.000000  1229.140015   \n",
      "5196 2018-01-08  1236.000000  1253.079956  1232.030029  1246.869995   \n",
      "...         ...          ...          ...          ...          ...   \n",
      "5690 2019-12-24  1793.810059  1795.569946  1787.579956  1789.209961   \n",
      "5691 2019-12-26  1801.010010  1870.459961  1799.500000  1868.770020   \n",
      "5692 2019-12-27  1882.920044  1901.400024  1866.010010  1869.800049   \n",
      "5693 2019-12-30  1874.000000  1884.000000  1840.619995  1846.890015   \n",
      "5694 2019-12-31  1842.000000  1853.260010  1832.229980  1847.839966   \n",
      "\n",
      "        Adj Close   Volume  \n",
      "5192  1189.010010  2694500  \n",
      "5193  1204.199951  3108800  \n",
      "5194  1209.589966  3022100  \n",
      "5195  1229.140015  3544700  \n",
      "5196  1246.869995  4279500  \n",
      "...           ...      ...  \n",
      "5690  1789.209961   881300  \n",
      "5691  1868.770020  6005400  \n",
      "5692  1869.800049  6186600  \n",
      "5693  1846.890015  3674700  \n",
      "5694  1847.839966  2506500  \n",
      "\n",
      "[503 rows x 7 columns]\n"
     ]
    }
   ],
   "source": [
    "print(df.loc[mask])"
   ]
  },
  {
   "cell_type": "code",
   "execution_count": null,
   "id": "0b62f516",
   "metadata": {},
   "outputs": [],
   "source": []
  }
 ],
 "metadata": {
  "kernelspec": {
   "display_name": "Python 3",
   "language": "python",
   "name": "python3"
  },
  "language_info": {
   "codemirror_mode": {
    "name": "ipython",
    "version": 3
   },
   "file_extension": ".py",
   "mimetype": "text/x-python",
   "name": "python",
   "nbconvert_exporter": "python",
   "pygments_lexer": "ipython3",
   "version": "3.8.8"
  }
 },
 "nbformat": 4,
 "nbformat_minor": 5
}
